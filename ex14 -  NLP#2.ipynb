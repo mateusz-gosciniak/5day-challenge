{
 "cells": [
  {
   "cell_type": "code",
   "execution_count": 1,
   "metadata": {},
   "outputs": [
    {
     "name": "stderr",
     "output_type": "stream",
     "text": [
      "C:\\ProgramData\\Anaconda3\\lib\\site-packages\\gensim\\utils.py:1197: UserWarning: detected Windows; aliasing chunkize to chunkize_serial\n",
      "  warnings.warn(\"detected Windows; aliasing chunkize to chunkize_serial\")\n"
     ]
    }
   ],
   "source": [
    "import pandas as pd\n",
    "\n",
    "from gensim.utils import simple_preprocess\n",
    "from gensim.models import Word2Vec\n",
    "from gensim.models.phrases import Phrases, Phraser"
   ]
  },
  {
   "cell_type": "code",
   "execution_count": 2,
   "metadata": {
    "scrolled": true
   },
   "outputs": [
    {
     "name": "stdout",
     "output_type": "stream",
     "text": [
      " Volume in drive C is OSDisk\n",
      " Volume Serial Number is BAB5-483A\n",
      "\n",
      " Directory of C:\\Users\\adm.m.gosciniak\\Desktop\\workspace\\ANN-ML\n",
      "\n",
      "\n",
      " Directory of C:\\Users\\adm.m.gosciniak\\Desktop\\workspace\\ANN-ML\\NLP#2\n",
      "\n",
      "06.09.2019  22:44    <DIR>          .\n",
      "06.09.2019  22:44    <DIR>          ..\n",
      "06.09.2019  12:49       133˙415˙034 job_ofer.csv\n",
      "               1 File(s)    133˙415˙034 bytes\n",
      "               2 Dir(s)  146˙989˙334˙528 bytes free\n"
     ]
    },
    {
     "name": "stderr",
     "output_type": "stream",
     "text": [
      "File Not Found\n"
     ]
    }
   ],
   "source": [
    "ls -lh NLP#2"
   ]
  },
  {
   "cell_type": "code",
   "execution_count": 3,
   "metadata": {},
   "outputs": [],
   "source": [
    "df = pd.read_csv('NLP#2\\job_ofer.csv')"
   ]
  },
  {
   "cell_type": "code",
   "execution_count": 4,
   "metadata": {},
   "outputs": [
    {
     "data": {
      "text/plain": [
       "(36109, 8)"
      ]
     },
     "execution_count": 4,
     "metadata": {},
     "output_type": "execute_result"
    }
   ],
   "source": [
    "df.shape"
   ]
  },
  {
   "cell_type": "code",
   "execution_count": 5,
   "metadata": {
    "scrolled": false
   },
   "outputs": [
    {
     "data": {
      "text/html": [
       "<div>\n",
       "<style scoped>\n",
       "    .dataframe tbody tr th:only-of-type {\n",
       "        vertical-align: middle;\n",
       "    }\n",
       "\n",
       "    .dataframe tbody tr th {\n",
       "        vertical-align: top;\n",
       "    }\n",
       "\n",
       "    .dataframe thead th {\n",
       "        text-align: right;\n",
       "    }\n",
       "</style>\n",
       "<table border=\"1\" class=\"dataframe\">\n",
       "  <thead>\n",
       "    <tr style=\"text-align: right;\">\n",
       "      <th></th>\n",
       "      <th>title</th>\n",
       "      <th>company_name</th>\n",
       "      <th>address</th>\n",
       "      <th>description</th>\n",
       "      <th>seniority_level</th>\n",
       "      <th>employment_type</th>\n",
       "      <th>job_function</th>\n",
       "      <th>industries</th>\n",
       "    </tr>\n",
       "  </thead>\n",
       "  <tbody>\n",
       "    <tr>\n",
       "      <th>0</th>\n",
       "      <td>Machine Learning Engineer</td>\n",
       "      <td>Intellipro Group Inc</td>\n",
       "      <td>Palo Alto, CA, US</td>\n",
       "      <td>['About The Company', \"W*** is reshaping the f...</td>\n",
       "      <td>Entry level</td>\n",
       "      <td>Full-time</td>\n",
       "      <td>Engineering</td>\n",
       "      <td>Information Technology and Services</td>\n",
       "    </tr>\n",
       "    <tr>\n",
       "      <th>1</th>\n",
       "      <td>Deep Learning Applied Researcher - Chicago</td>\n",
       "      <td>Ethosia</td>\n",
       "      <td>Chicago, IL, US</td>\n",
       "      <td>['תיאור המשרה', 'Deep learning for Computer Vi...</td>\n",
       "      <td>Associate</td>\n",
       "      <td>Full-time</td>\n",
       "      <td>Other</td>\n",
       "      <td>Information Technology and Services</td>\n",
       "    </tr>\n",
       "    <tr>\n",
       "      <th>2</th>\n",
       "      <td>Machine Learning Engineer</td>\n",
       "      <td>Motorola Solutions</td>\n",
       "      <td>Chicago, IL, US</td>\n",
       "      <td>['Company Overview', 'At Motorola Solutions, w...</td>\n",
       "      <td>Entry level</td>\n",
       "      <td>Full-time</td>\n",
       "      <td>Engineering</td>\n",
       "      <td>Information Technology and Services</td>\n",
       "    </tr>\n",
       "    <tr>\n",
       "      <th>3</th>\n",
       "      <td>Machine Learning / Data Scientist</td>\n",
       "      <td>Proprius LLC</td>\n",
       "      <td>San Francisco, CA, US</td>\n",
       "      <td>['Our client is a digital invention agency foc...</td>\n",
       "      <td>Entry level</td>\n",
       "      <td>Full-time</td>\n",
       "      <td>Engineering</td>\n",
       "      <td>Information Technology and Services</td>\n",
       "    </tr>\n",
       "    <tr>\n",
       "      <th>4</th>\n",
       "      <td>Cloud Architect</td>\n",
       "      <td>TCS</td>\n",
       "      <td>Framingham, Massachusetts, United States</td>\n",
       "      <td>['Technical/Functional Skills', ' ', 'Good to ...</td>\n",
       "      <td>Mid-Senior level</td>\n",
       "      <td>Full-time</td>\n",
       "      <td>Engineering</td>\n",
       "      <td>Information Technology and Services</td>\n",
       "    </tr>\n",
       "  </tbody>\n",
       "</table>\n",
       "</div>"
      ],
      "text/plain": [
       "                                        title          company_name  \\\n",
       "0                   Machine Learning Engineer  Intellipro Group Inc   \n",
       "1  Deep Learning Applied Researcher - Chicago               Ethosia   \n",
       "2                   Machine Learning Engineer    Motorola Solutions   \n",
       "3           Machine Learning / Data Scientist          Proprius LLC   \n",
       "4                             Cloud Architect                   TCS   \n",
       "\n",
       "                                    address  \\\n",
       "0                         Palo Alto, CA, US   \n",
       "1                           Chicago, IL, US   \n",
       "2                           Chicago, IL, US   \n",
       "3                     San Francisco, CA, US   \n",
       "4  Framingham, Massachusetts, United States   \n",
       "\n",
       "                                         description   seniority_level  \\\n",
       "0  ['About The Company', \"W*** is reshaping the f...       Entry level   \n",
       "1  ['תיאור המשרה', 'Deep learning for Computer Vi...         Associate   \n",
       "2  ['Company Overview', 'At Motorola Solutions, w...       Entry level   \n",
       "3  ['Our client is a digital invention agency foc...       Entry level   \n",
       "4  ['Technical/Functional Skills', ' ', 'Good to ...  Mid-Senior level   \n",
       "\n",
       "  employment_type job_function                           industries  \n",
       "0       Full-time  Engineering  Information Technology and Services  \n",
       "1       Full-time        Other  Information Technology and Services  \n",
       "2       Full-time  Engineering  Information Technology and Services  \n",
       "3       Full-time  Engineering  Information Technology and Services  \n",
       "4       Full-time  Engineering  Information Technology and Services  "
      ]
     },
     "execution_count": 5,
     "metadata": {},
     "output_type": "execute_result"
    }
   ],
   "source": [
    "df.head()"
   ]
  },
  {
   "cell_type": "markdown",
   "metadata": {},
   "source": [
    "## Word2Vec"
   ]
  },
  {
   "cell_type": "code",
   "execution_count": 6,
   "metadata": {},
   "outputs": [],
   "source": [
    "corpus = df['title'].map(simple_preprocess)"
   ]
  },
  {
   "cell_type": "code",
   "execution_count": 7,
   "metadata": {},
   "outputs": [],
   "source": [
    "model = Word2Vec(corpus, size=100, window=2, min_count=1)"
   ]
  },
  {
   "cell_type": "code",
   "execution_count": 8,
   "metadata": {},
   "outputs": [
    {
     "data": {
      "text/plain": [
       "[('deep', 0.9511145949363708),\n",
       " ('captivate', 0.8684569597244263),\n",
       " ('inference', 0.8401210308074951),\n",
       " ('edge', 0.8271770477294922),\n",
       " ('acceleration', 0.820702075958252),\n",
       " ('natural', 0.8107858300209045),\n",
       " ('personalization', 0.8096221089363098),\n",
       " ('big', 0.8089216947555542),\n",
       " ('computer', 0.8077312707901001),\n",
       " ('scientists', 0.7995655536651611)]"
      ]
     },
     "execution_count": 8,
     "metadata": {},
     "output_type": "execute_result"
    }
   ],
   "source": [
    "model.wv.most_similar('machine')"
   ]
  },
  {
   "cell_type": "markdown",
   "metadata": {},
   "source": [
    "## Przykład"
   ]
  },
  {
   "cell_type": "code",
   "execution_count": 9,
   "metadata": {},
   "outputs": [],
   "source": [
    "corpus = [\n",
    "    ['machine', 'learning', 'c'],\n",
    "    ['machine', 'learning', 'x'],\n",
    "    ['y', 'machine', 'learning', 'w'],\n",
    "    ['q', 'machine', 'learning', 'u', 'k'],\n",
    "]\n",
    "bigram = Phraser(Phrases(corpus, min_count=1, threshold=1)) "
   ]
  },
  {
   "cell_type": "code",
   "execution_count": 10,
   "metadata": {},
   "outputs": [
    {
     "data": {
      "text/plain": [
       "['k', 'machine_learning', 'c']"
      ]
     },
     "execution_count": 10,
     "metadata": {},
     "output_type": "execute_result"
    }
   ],
   "source": [
    "bigram[ ['k', 'machine', 'learning', 'c'] ]"
   ]
  },
  {
   "cell_type": "code",
   "execution_count": 11,
   "metadata": {},
   "outputs": [],
   "source": [
    "title_corpus = df['title'].map(simple_preprocess)\n",
    "title_bigram = Phraser(Phrases(title_corpus, min_count=1, threshold=1))"
   ]
  },
  {
   "cell_type": "code",
   "execution_count": 12,
   "metadata": {},
   "outputs": [
    {
     "data": {
      "text/plain": [
       "['deep', 'learning', 'applied', 'researcher', 'chicago']"
      ]
     },
     "execution_count": 12,
     "metadata": {},
     "output_type": "execute_result"
    }
   ],
   "source": [
    "simple_preprocess('Deep Learning Applied Researcher - Chicago')"
   ]
  },
  {
   "cell_type": "code",
   "execution_count": 13,
   "metadata": {},
   "outputs": [
    {
     "data": {
      "text/plain": [
       "['deep_learning', 'applied', 'researcher', 'chicago']"
      ]
     },
     "execution_count": 13,
     "metadata": {},
     "output_type": "execute_result"
    }
   ],
   "source": [
    "title_bigram[simple_preprocess('Deep Learning Applied Researcher - Chicago')]"
   ]
  },
  {
   "cell_type": "code",
   "execution_count": 14,
   "metadata": {},
   "outputs": [],
   "source": [
    "title_corpus_phrase = [ title_bigram[sent] for sent in title_corpus]"
   ]
  },
  {
   "cell_type": "code",
   "execution_count": 15,
   "metadata": {},
   "outputs": [],
   "source": [
    "model = Word2Vec(title_corpus_phrase, size=100, window=2, min_count=1)"
   ]
  },
  {
   "cell_type": "code",
   "execution_count": 16,
   "metadata": {},
   "outputs": [
    {
     "data": {
      "text/plain": [
       "[('industrial', 0.9688023328781128),\n",
       " ('emea', 0.9683770537376404),\n",
       " ('full', 0.9679176807403564),\n",
       " ('west', 0.9676684737205505),\n",
       " ('prn', 0.9676611423492432),\n",
       " ('services', 0.9674018621444702),\n",
       " ('ontario_canada', 0.9673200845718384),\n",
       " ('philadelphia', 0.9672846794128418),\n",
       " ('california', 0.9671345949172974),\n",
       " ('operations_specialist', 0.9671139121055603)]"
      ]
     },
     "execution_count": 16,
     "metadata": {},
     "output_type": "execute_result"
    }
   ],
   "source": [
    "model.wv.most_similar('machine')"
   ]
  },
  {
   "cell_type": "code",
   "execution_count": 17,
   "metadata": {},
   "outputs": [],
   "source": [
    "def prepare_corpus(corpus, bigram):\n",
    "    for sent in corpus:\n",
    "        yield bigram[sent] + sent"
   ]
  },
  {
   "cell_type": "code",
   "execution_count": 18,
   "metadata": {},
   "outputs": [
    {
     "data": {
      "text/plain": [
       "['deep', 'learning', 'applied', 'researcher', 'chicago']"
      ]
     },
     "execution_count": 18,
     "metadata": {},
     "output_type": "execute_result"
    }
   ],
   "source": [
    "simple_preprocess('Deep Learning Applied Researcher - Chicago')"
   ]
  },
  {
   "cell_type": "code",
   "execution_count": 19,
   "metadata": {},
   "outputs": [
    {
     "data": {
      "text/plain": [
       "['deep_learning', 'applied', 'researcher', 'chicago']"
      ]
     },
     "execution_count": 19,
     "metadata": {},
     "output_type": "execute_result"
    }
   ],
   "source": [
    "title_bigram[['deep', 'learning', 'applied', 'researcher', 'chicago']]"
   ]
  },
  {
   "cell_type": "code",
   "execution_count": 20,
   "metadata": {},
   "outputs": [
    {
     "data": {
      "text/plain": [
       "['deep',\n",
       " 'learning',\n",
       " 'applied',\n",
       " 'researcher',\n",
       " 'chicago',\n",
       " 'deep_learning',\n",
       " 'applied',\n",
       " 'researcher',\n",
       " 'chicago']"
      ]
     },
     "execution_count": 20,
     "metadata": {},
     "output_type": "execute_result"
    }
   ],
   "source": [
    "['deep', 'learning', 'applied', 'researcher', 'chicago'] + ['deep_learning', 'applied', 'researcher', 'chicago']"
   ]
  },
  {
   "cell_type": "code",
   "execution_count": 21,
   "metadata": {},
   "outputs": [],
   "source": [
    "ext_corp = list(prepare_corpus(title_corpus, title_bigram))\n",
    "title_model = Word2Vec(ext_corp, size=100, window=2, min_count=1)"
   ]
  },
  {
   "cell_type": "code",
   "execution_count": 22,
   "metadata": {},
   "outputs": [
    {
     "name": "stderr",
     "output_type": "stream",
     "text": [
      "C:\\ProgramData\\Anaconda3\\lib\\site-packages\\ipykernel_launcher.py:1: DeprecationWarning: Call to deprecated `most_similar` (Method will be removed in 4.0.0, use self.wv.most_similar() instead).\n",
      "  \"\"\"Entry point for launching an IPython kernel.\n"
     ]
    },
    {
     "data": {
      "text/plain": [
       "[('deep', 0.9519097208976746),\n",
       " ('learning', 0.9491309523582458),\n",
       " ('machine_learning', 0.9474955201148987),\n",
       " ('big', 0.9400891065597534),\n",
       " ('learning_product', 0.9340410232543945),\n",
       " ('deep_learning', 0.9314969778060913),\n",
       " ('xm', 0.9257104396820068),\n",
       " ('data_engineer', 0.9176053404808044),\n",
       " ('computer', 0.9171258211135864),\n",
       " ('principal_data', 0.9154446125030518)]"
      ]
     },
     "execution_count": 22,
     "metadata": {},
     "output_type": "execute_result"
    }
   ],
   "source": [
    "title_model.most_similar('machine')"
   ]
  },
  {
   "cell_type": "code",
   "execution_count": 23,
   "metadata": {},
   "outputs": [
    {
     "name": "stderr",
     "output_type": "stream",
     "text": [
      "C:\\ProgramData\\Anaconda3\\lib\\site-packages\\ipykernel_launcher.py:1: DeprecationWarning: Call to deprecated `most_similar` (Method will be removed in 4.0.0, use self.wv.most_similar() instead).\n",
      "  \"\"\"Entry point for launching an IPython kernel.\n"
     ]
    },
    {
     "data": {
      "text/plain": [
       "[('learning', 0.9808264970779419),\n",
       " ('artificial_intelligence', 0.9758792519569397),\n",
       " ('deep_learning', 0.9753170609474182),\n",
       " ('computer_vision', 0.9733235836029053),\n",
       " ('deep', 0.9718889594078064),\n",
       " ('data_engineer', 0.9696142077445984),\n",
       " ('computer', 0.9685275554656982),\n",
       " ('artificial', 0.96660315990448),\n",
       " ('nlp_ml', 0.965610682964325),\n",
       " ('rockville', 0.9638658165931702)]"
      ]
     },
     "execution_count": 23,
     "metadata": {},
     "output_type": "execute_result"
    }
   ],
   "source": [
    "title_model.most_similar('machine_learning')"
   ]
  },
  {
   "cell_type": "markdown",
   "metadata": {},
   "source": [
    "## Description"
   ]
  },
  {
   "cell_type": "code",
   "execution_count": 24,
   "metadata": {},
   "outputs": [
    {
     "data": {
      "text/plain": [
       "\"['Overview', 'Public Consulting Group, Inc. (PCG) provides management consulting and technology services to help public sector education, health, human services, and other government clients achieve their performance goals and better serve populations in need. Founded in 1986 and headquartered in Boston, Massachusetts, PCG has more than 1,700 professionals in 55 offices around the U.S. and in Montreal, UK and Poland. The firm draws on more than two decades of consulting to public sector clients in all 50 states and Canada to deliver best-practice solutions and measurable results to state and local public agencies, state-operated facilities, and private providers that do business with government agencies. PCG is committed to a diverse workforce which is a reflection of our clients and the people they serve. Our organizational culture attracts and rewards people who are results-oriented and interested in making an immediate impact on their community as well as their own career.', 'Responsibilities', ' OPERATIONS SUPPORT DESCRIPTION: ', 'The operations support team manages the inbound document and outgoing mail process. Inbound documents are received by our mail room, scanned and uploaded for a triage process to determine document type and thereafter allocated to the appropriate department for processing. Once triage and scanning occurs documents can be managed electronically and in some instance travel direct to the processing department through our BPM (Business Process Management) system. The operations support team completes fulfillment of Customer Service, Program Management and internal FOC team requests. The support team manages the outbound mail inserting, postage and deliverable process.', 'General Summary', 'This position is primarily responsible for supervising a team of non-exempt employees providing day-to-day management of the inbound document process. Along with having responsibility for the daily supervisor of the team, this position is responsible for interacting with Customer Service, Program Management and external third-party vendors in the execution of the inbound document process. The Operations Support Supervisor will manage all aspects of operations support department including staff supervision, policies and procedure development, extensive reporting and vendor management. Supervise team lead and staff across geographies to ensure that staff is meeting daily service requirements, including supply and equipment inventory.', 'Apply demonstrated project management skills to ensure project deliverables and expectations are met on a daily basis.', 'Assist Manager, Financial Operations Center to develop and enhance PPL’s technical and operational capacity to deliver financial services processing in multiple states.', ' ESSENTIAL DUTIES AND RESPONSIBILITIES :', ' ( Other duties may be assigned as appropriate and necessary ). The requirements listed below are ranked in order of importance and are representative of the knowledge, skill, and/or abilities required to do the job successfully. Include appropriate references to quantitative abilities, computer skills, writing skills, research skills and general attributes.', 'Manage Daily Operations Support', 'Ensure timely and accurate fulfillment of contractual obligations and internal SLAs', ' Performance Objectives ', ' Processing all incoming and outgoing mail / payroll checks ', ' Manage triage process through BPM (Business Process Management) system ', ' Creating reports and identifying areas of improvement ', 'Create and manage staff against internal project work place', ' Ensure staff understanding of day to day project priorities, level of effort, and deadlines ', ' Monitor staff performance and follow up on areas of deficiency ', 'Ensure staff are effectively performing all responsibilities as outlined in job description', 'Supervise Line Staff', ' Supervise Team Leaders to ensure resources are adequately coordinated to meet contractual obligations ', ' Troubleshoot issues on a daily basis including validation and auditing ', ' Evaluate internal controls and identify staff training needs on an ongoing basis ', ' Establish and implement project policies and procedures ', 'Serve as Key Operations Center Liaison', ' Contributing member of the FOC senior leadership team ', ' Identify management information system issues and work with IT staff to execute a solution ', ' Establish and maintain excellent communication with call center operations staff in Phoenix ', ' Lead ad hoc inter-office assignments as assigned ', 'Qualifications', ' EDUCATION and/or PREVIOUS EXPERIENCE REQUIRED ', ' (include any required certificates, licenses and registrations) ', ':', ' Education: ', ' Relevant Bachelor’s Degree or equivalent experience, Master’s Degree a plus', ' Experience: ', ' 3 + years progressive experience with operations center projects,', '5 + years prior supervisory experience, with multiple reports', '2 + years vendor management experience', ' Skills: ', ' Experienced Leader', 'Demonstrated ability to leverage data insights in order to drive team performance and operational improvements', 'Superior attention to detail', 'Demonstrated team work and relationship building skills', 'Must be proficient in Microsoft applications such as MS Excel and MS PowerPoint', 'Demonstrated exceptional communication/interpersonal skills', 'Vendor Management and relationship management experience', 'Supervisory Responsibilities', 'FO Specialist', 'FO Associate II', 'FO Associate I', 'Others as assigned by FO Manager', 'Options', 'Apply for this job online Apply', 'Share', 'Email this job to a friend Refer', 'Sorry the Share function is not working properly at this moment. Please refresh the page and try again later.', 'Share on your newsfeed', ' Connect With Public Consulting Group! ', 'Not ready to apply? Connect with Public Consulting Group for general consideration.']\""
      ]
     },
     "execution_count": 24,
     "metadata": {},
     "output_type": "execute_result"
    }
   ],
   "source": [
    "df.sample()['description'].values[0]"
   ]
  },
  {
   "cell_type": "code",
   "execution_count": 25,
   "metadata": {},
   "outputs": [
    {
     "data": {
      "text/plain": [
       "['our',\n",
       " 'brand',\n",
       " 'new',\n",
       " 'role',\n",
       " 'in',\n",
       " 'athens',\n",
       " 'ga',\n",
       " 'accounts',\n",
       " 'receivable',\n",
       " 'accountant',\n",
       " 'will',\n",
       " 'join',\n",
       " 'the',\n",
       " 'accounting',\n",
       " 'team',\n",
       " 'at',\n",
       " 'docebo',\n",
       " 'and',\n",
       " 'she',\n",
       " 'he',\n",
       " 'will',\n",
       " 'support',\n",
       " 'the',\n",
       " 'head',\n",
       " 'of',\n",
       " 'accounting',\n",
       " 'in',\n",
       " 'italy',\n",
       " 'for',\n",
       " 'tracking',\n",
       " 'and',\n",
       " 'performing',\n",
       " 'the',\n",
       " 'account',\n",
       " 'receivables',\n",
       " 'monthly',\n",
       " 'activities',\n",
       " 'in',\n",
       " 'particular',\n",
       " 'the',\n",
       " 'accounts',\n",
       " 'receivables',\n",
       " 'accountant',\n",
       " 'will',\n",
       " 'provide',\n",
       " 'financial',\n",
       " 'clerical',\n",
       " 'and',\n",
       " 'data',\n",
       " 'analysis',\n",
       " 'while',\n",
       " 'managing',\n",
       " 'the',\n",
       " 'entire',\n",
       " 'order',\n",
       " 'process',\n",
       " 'flow',\n",
       " 'using',\n",
       " 'the',\n",
       " 'internal',\n",
       " 'erp',\n",
       " 'and',\n",
       " 'accounting',\n",
       " 'system',\n",
       " 'to',\n",
       " 'ensure',\n",
       " 'efficiency',\n",
       " 'and',\n",
       " 'accuracy',\n",
       " 'in',\n",
       " 'customer',\n",
       " 'accounts',\n",
       " 'and',\n",
       " 'billing',\n",
       " 'the',\n",
       " 'ideal',\n",
       " 'candidate',\n",
       " 'will',\n",
       " 'thrive',\n",
       " 'on',\n",
       " 'the',\n",
       " 'blend',\n",
       " 'of',\n",
       " 'autonomy',\n",
       " 'and',\n",
       " 'teamwork',\n",
       " 'while',\n",
       " 'helping',\n",
       " 'build',\n",
       " 'out',\n",
       " 'the',\n",
       " 'best',\n",
       " 'practices',\n",
       " 'for',\n",
       " 'this',\n",
       " 'new',\n",
       " 'role',\n",
       " 'but',\n",
       " 'also',\n",
       " 'be',\n",
       " 'focused',\n",
       " 'on',\n",
       " 'meeting',\n",
       " 'tight',\n",
       " 'deadlines',\n",
       " 'for',\n",
       " 'docebo',\n",
       " 'statutory',\n",
       " 'accounts',\n",
       " 'and',\n",
       " 'audits',\n",
       " 'this',\n",
       " 'is',\n",
       " 'global',\n",
       " 'role',\n",
       " 'and',\n",
       " 'will',\n",
       " 'manage',\n",
       " 'the',\n",
       " 'ar',\n",
       " 'processes',\n",
       " 'for',\n",
       " 'both',\n",
       " 'our',\n",
       " 'athens',\n",
       " 'ga',\n",
       " 'office',\n",
       " 'and',\n",
       " 'our',\n",
       " 'toronto',\n",
       " 'canada',\n",
       " 'office',\n",
       " 'travel',\n",
       " 'to',\n",
       " 'italy',\n",
       " 'for',\n",
       " 'training',\n",
       " 'is',\n",
       " 'required',\n",
       " 'so',\n",
       " 'if',\n",
       " 'you',\n",
       " 'love',\n",
       " 'international',\n",
       " 'travel',\n",
       " 'and',\n",
       " 'all',\n",
       " 'things',\n",
       " 'ar',\n",
       " 'then',\n",
       " 'this',\n",
       " 'could',\n",
       " 'be',\n",
       " 'the',\n",
       " 'role',\n",
       " 'for',\n",
       " 'you',\n",
       " 'regularly',\n",
       " 'ranked',\n",
       " 'among',\n",
       " 'the',\n",
       " 'world',\n",
       " 'top',\n",
       " 'saas',\n",
       " 'learning',\n",
       " 'platforms',\n",
       " 'docebo',\n",
       " 'is',\n",
       " 'regarded',\n",
       " 'as',\n",
       " 'one',\n",
       " 'of',\n",
       " 'the',\n",
       " 'industry',\n",
       " 'most',\n",
       " 'comprehensive',\n",
       " 'solutions',\n",
       " 'for',\n",
       " 'training',\n",
       " 'management',\n",
       " 'and',\n",
       " 'has',\n",
       " 'been',\n",
       " 'chosen',\n",
       " 'by',\n",
       " 'some',\n",
       " 'of',\n",
       " 'the',\n",
       " 'world',\n",
       " 'most',\n",
       " 'respected',\n",
       " 'companies',\n",
       " 'to',\n",
       " 'achieve',\n",
       " 'operational',\n",
       " 'efficiency',\n",
       " 'culture',\n",
       " 'is',\n",
       " 'incredibly',\n",
       " 'important',\n",
       " 'to',\n",
       " 'docebo',\n",
       " 'company',\n",
       " 'where',\n",
       " 'every',\n",
       " 'team',\n",
       " 'member',\n",
       " 'is',\n",
       " 'family',\n",
       " 'and',\n",
       " 'everyone',\n",
       " 'contributes',\n",
       " 'to',\n",
       " 'the',\n",
       " 'success',\n",
       " 'and',\n",
       " 'happiness',\n",
       " 'of',\n",
       " 'the',\n",
       " 'entire',\n",
       " 'team',\n",
       " 'from',\n",
       " 'catered',\n",
       " 'meals',\n",
       " 'for',\n",
       " 'our',\n",
       " 'lunch',\n",
       " 'and',\n",
       " 'learns',\n",
       " 'to',\n",
       " 'our',\n",
       " 'group',\n",
       " 'outings',\n",
       " 'docebo',\n",
       " 'encourages',\n",
       " 'the',\n",
       " 'team',\n",
       " 'to',\n",
       " 'not',\n",
       " 'only',\n",
       " 'work',\n",
       " 'well',\n",
       " 'together',\n",
       " 'but',\n",
       " 'also',\n",
       " 'have',\n",
       " 'fun',\n",
       " 'together',\n",
       " 'we',\n",
       " 'pride',\n",
       " 'ourselves',\n",
       " 'on',\n",
       " 'offering',\n",
       " 'our',\n",
       " 'employees',\n",
       " 'with',\n",
       " 'very',\n",
       " 'competitive',\n",
       " 'compensation',\n",
       " 'great',\n",
       " 'benefits',\n",
       " 'the',\n",
       " 'opportunity',\n",
       " 'to',\n",
       " 'work',\n",
       " 'closely',\n",
       " 'with',\n",
       " 'team',\n",
       " 'members',\n",
       " 'around',\n",
       " 'the',\n",
       " 'globe',\n",
       " 'and',\n",
       " 'the',\n",
       " 'chance',\n",
       " 'to',\n",
       " 'be',\n",
       " 'part',\n",
       " 'of',\n",
       " 'team',\n",
       " 'who',\n",
       " 'is',\n",
       " 'obsessed',\n",
       " 'with',\n",
       " 'constantly',\n",
       " 'innovating',\n",
       " 'to',\n",
       " 'provide',\n",
       " 'an',\n",
       " 'amazing',\n",
       " 'experience',\n",
       " 'for',\n",
       " 'our',\n",
       " 'users',\n",
       " 'location',\n",
       " 'athens',\n",
       " 'ga',\n",
       " 'not',\n",
       " 'remote',\n",
       " 'position',\n",
       " 'report',\n",
       " 'to',\n",
       " 'global',\n",
       " 'receivables',\n",
       " 'accountant',\n",
       " 'you',\n",
       " 'will',\n",
       " 'perform',\n",
       " 'daily',\n",
       " 'checks',\n",
       " 'on',\n",
       " 'the',\n",
       " 'client',\n",
       " 'contracts',\n",
       " 'in',\n",
       " 'order',\n",
       " 'to',\n",
       " 'assure',\n",
       " 'the',\n",
       " 'correct',\n",
       " 'terms',\n",
       " 'of',\n",
       " 'payment',\n",
       " 'process',\n",
       " 'the',\n",
       " 'client',\n",
       " 'order',\n",
       " 'for',\n",
       " 'the',\n",
       " 'docebo',\n",
       " 'entities',\n",
       " 'within',\n",
       " 'our',\n",
       " 'erp',\n",
       " 'and',\n",
       " 'then',\n",
       " 'issue',\n",
       " 'the',\n",
       " 'related',\n",
       " 'invoices',\n",
       " 'making',\n",
       " 'sure',\n",
       " 'they',\n",
       " 'are',\n",
       " 'correctly',\n",
       " 'and',\n",
       " 'automatically',\n",
       " 'uploaded',\n",
       " 'into',\n",
       " 'the',\n",
       " 'accounts',\n",
       " 'receivable',\n",
       " 'ledger',\n",
       " 'prepare',\n",
       " 'preliminary',\n",
       " 'revenue',\n",
       " 'assurance',\n",
       " 'reports',\n",
       " 'from',\n",
       " 'our',\n",
       " 'internal',\n",
       " 'erp',\n",
       " 'system',\n",
       " 'maintaining',\n",
       " 'the',\n",
       " 'company',\n",
       " 'revenue',\n",
       " 'recognition',\n",
       " 'policy',\n",
       " 'prepare',\n",
       " 'and',\n",
       " 'manage',\n",
       " 'analysis',\n",
       " 'on',\n",
       " 'ar',\n",
       " 'accounts',\n",
       " 'as',\n",
       " 'required',\n",
       " 'manage',\n",
       " 'and',\n",
       " 'resolve',\n",
       " 'revenue',\n",
       " 'issues',\n",
       " 'dealing',\n",
       " 'with',\n",
       " 'sales',\n",
       " 'customer',\n",
       " 'success',\n",
       " 'team',\n",
       " 'manage',\n",
       " 'cash',\n",
       " 'application',\n",
       " 'gl',\n",
       " 'accounts',\n",
       " 'reconciliation',\n",
       " 'of',\n",
       " 'receivable',\n",
       " 'including',\n",
       " 'ar',\n",
       " 'aging',\n",
       " 'bad',\n",
       " 'debt',\n",
       " 'exposure',\n",
       " 'and',\n",
       " 'preparation',\n",
       " 'of',\n",
       " 'deferred',\n",
       " 'revenue',\n",
       " 'schedules',\n",
       " 'for',\n",
       " 'north',\n",
       " 'america',\n",
       " 'support',\n",
       " 'the',\n",
       " 'monthly',\n",
       " 'closing',\n",
       " 'and',\n",
       " 'quarterly',\n",
       " 'activities',\n",
       " 'related',\n",
       " 'to',\n",
       " 'receivables',\n",
       " 'coordinating',\n",
       " 'with',\n",
       " 'local',\n",
       " 'financial',\n",
       " 'accountant',\n",
       " 'and',\n",
       " 'global',\n",
       " 'receivables',\n",
       " 'accountant',\n",
       " 'and',\n",
       " 'local',\n",
       " 'financial',\n",
       " 'accountant',\n",
       " 'contribute',\n",
       " 'to',\n",
       " 'treasury',\n",
       " 'functions',\n",
       " 'record',\n",
       " 'customer',\n",
       " 'and',\n",
       " 'third',\n",
       " 'party',\n",
       " 'payments',\n",
       " 'and',\n",
       " 'support',\n",
       " 'the',\n",
       " 'team',\n",
       " 'with',\n",
       " 'cash',\n",
       " 'flow',\n",
       " 'activities',\n",
       " 'actual',\n",
       " 'forecast',\n",
       " 'handle',\n",
       " 'customers',\n",
       " 'cash',\n",
       " 'receipts',\n",
       " 'application',\n",
       " 'and',\n",
       " 'dso',\n",
       " 'support',\n",
       " 'global',\n",
       " 'receivables',\n",
       " 'accountant',\n",
       " 'and',\n",
       " 'local',\n",
       " 'finance',\n",
       " 'team',\n",
       " 'for',\n",
       " 'ad',\n",
       " 'hoc',\n",
       " 'projects',\n",
       " 'assist',\n",
       " 'auditors',\n",
       " 'with',\n",
       " 'their',\n",
       " 'requests',\n",
       " 'and',\n",
       " 'questions',\n",
       " 'quarterly',\n",
       " 'at',\n",
       " 'mid',\n",
       " 'year',\n",
       " 'and',\n",
       " 'end',\n",
       " 'of',\n",
       " 'year',\n",
       " 'assist',\n",
       " 'any',\n",
       " 'other',\n",
       " 'areas',\n",
       " 'of',\n",
       " 'financial',\n",
       " 'accounting',\n",
       " 'department',\n",
       " 'as',\n",
       " 'necessary',\n",
       " 'coordinating',\n",
       " 'with',\n",
       " 'local',\n",
       " 'financial',\n",
       " 'accountant',\n",
       " 'and',\n",
       " 'global',\n",
       " 'receivables',\n",
       " 'accountant',\n",
       " 'you',\n",
       " 'have',\n",
       " 'accounting',\n",
       " 'bachelor',\n",
       " 'degree',\n",
       " 'previous',\n",
       " 'experience',\n",
       " 'at',\n",
       " 'least',\n",
       " 'years',\n",
       " 'in',\n",
       " 'receivables',\n",
       " 'general',\n",
       " 'ledger',\n",
       " 'department',\n",
       " 'in',\n",
       " 'multinational',\n",
       " 'company',\n",
       " 'preferably',\n",
       " 'in',\n",
       " 'the',\n",
       " 'software',\n",
       " 'industry',\n",
       " 'good',\n",
       " 'knowledge',\n",
       " 'of',\n",
       " 'accounting',\n",
       " 'and',\n",
       " 'accounting',\n",
       " 'principles',\n",
       " 'strong',\n",
       " 'knowledge',\n",
       " 'of',\n",
       " 'microsoft',\n",
       " 'office',\n",
       " 'package',\n",
       " 'previous',\n",
       " 'knowledge',\n",
       " 'of',\n",
       " 'quickbooks',\n",
       " 'preferred',\n",
       " 'team',\n",
       " 'working',\n",
       " 'and',\n",
       " 'communication',\n",
       " 'strengths',\n",
       " 'strong',\n",
       " 'analytical',\n",
       " 'skills',\n",
       " 'ability',\n",
       " 'to',\n",
       " 'be',\n",
       " 'proactive',\n",
       " 'and',\n",
       " 'work',\n",
       " 'autonomously',\n",
       " 'ability',\n",
       " 'for',\n",
       " 'some',\n",
       " 'international',\n",
       " 'travel',\n",
       " 'as',\n",
       " 'needed']"
      ]
     },
     "execution_count": 25,
     "metadata": {},
     "output_type": "execute_result"
    }
   ],
   "source": [
    "simple_preprocess(df.sample()['description'].values[0])"
   ]
  },
  {
   "cell_type": "code",
   "execution_count": 37,
   "metadata": {},
   "outputs": [],
   "source": [
    "descr_corpus = df['title'].map(simple_preprocess)\n",
    "descr_bigram = Phraser(Phrases(descr_corpus, min_count=1, threshold=1))"
   ]
  },
  {
   "cell_type": "code",
   "execution_count": 38,
   "metadata": {},
   "outputs": [],
   "source": [
    "ext_descr_corp = list(prepare_corpus(descr_corpus, descr_bigram))\n",
    "descr_model = Word2Vec(ext_descr_corp, size=100, window=2, min_count=1)"
   ]
  },
  {
   "cell_type": "code",
   "execution_count": 39,
   "metadata": {},
   "outputs": [
    {
     "data": {
      "text/plain": [
       "[('deep', 0.9432780742645264),\n",
       " ('machine_learning', 0.9378163814544678),\n",
       " ('learning', 0.9368960857391357),\n",
       " ('learning_product', 0.9265376925468445),\n",
       " ('engineer_personalization', 0.9197168946266174),\n",
       " ('big', 0.9147975444793701),\n",
       " ('deep_learning', 0.9134982824325562),\n",
       " ('computer_vision', 0.9040836095809937),\n",
       " ('big_data', 0.9022928476333618),\n",
       " ('computer', 0.9008641839027405)]"
      ]
     },
     "execution_count": 39,
     "metadata": {},
     "output_type": "execute_result"
    }
   ],
   "source": [
    "descr_model.wv.most_similar('machine')"
   ]
  },
  {
   "cell_type": "code",
   "execution_count": 40,
   "metadata": {},
   "outputs": [
    {
     "data": {
      "text/plain": [
       "[('artificial_intelligence', 0.9969555735588074),\n",
       " ('computer', 0.9911870956420898),\n",
       " ('ml', 0.9877979755401611),\n",
       " ('applied_research', 0.9872468113899231),\n",
       " ('deep_learning', 0.98698890209198),\n",
       " ('genomics', 0.9864478707313538),\n",
       " ('big_data', 0.9856252670288086),\n",
       " ('deep', 0.9856113791465759),\n",
       " ('applied', 0.984078049659729),\n",
       " ('engineer_personalization', 0.9834589958190918)]"
      ]
     },
     "execution_count": 40,
     "metadata": {},
     "output_type": "execute_result"
    }
   ],
   "source": [
    "descr_model.wv.most_similar('nlp')"
   ]
  },
  {
   "cell_type": "code",
   "execution_count": 41,
   "metadata": {},
   "outputs": [],
   "source": [
    "descr_corpus_clean = df['description'].map(simple_preprocess)\n",
    "descr_bigram_clean = Phraser(Phrases(descr_corpus_clean, min_count=1, threshold=1))\n",
    "descr_model_clean = Word2Vec(descr_corpus_clean, size=100, window=2, min_count=1)"
   ]
  },
  {
   "cell_type": "code",
   "execution_count": 42,
   "metadata": {},
   "outputs": [
    {
     "data": {
      "text/plain": [
       "[('tensorflow', 0.9479519724845886),\n",
       " ('keras', 0.9450386762619019),\n",
       " ('caffe', 0.9362815022468567),\n",
       " ('theano', 0.9194320440292358),\n",
       " ('numpy', 0.916841447353363),\n",
       " ('scipy', 0.9124248027801514),\n",
       " ('mxnet', 0.8824359178543091),\n",
       " ('jupyter', 0.8753855228424072),\n",
       " ('sklearn', 0.874419093132019),\n",
       " ('pandas', 0.8676130175590515)]"
      ]
     },
     "execution_count": 42,
     "metadata": {},
     "output_type": "execute_result"
    }
   ],
   "source": [
    "descr_model_clean.wv.most_similar('pytorch')"
   ]
  },
  {
   "cell_type": "markdown",
   "metadata": {},
   "source": [
    "## Dodatkowe"
   ]
  },
  {
   "cell_type": "code",
   "execution_count": 43,
   "metadata": {},
   "outputs": [
    {
     "data": {
      "text/plain": [
       "'[\\'Atrium is reinventing the way legal services are delivered by combining modern technology and operational efficiency to deliver fast, transparent, and price predictable services to high-growth companies. Atrium aims to disrupt the $158B corporate legal services market. We’re based in San Francisco and have $75.5M in funding from top investors including Andreessen Horowitz, General Catalyst, Y Combinator, Greylock, First Round Capital, and more.\\', \\'Atrium’s platform promotes collaboration between clients and their attorney to seamlessly manage corporate records, draft key documents, and track projects in one place, resulting in a vastly superior experience that enables our clients to focus on growing their business. Atrium has helped ~400 companies with everything from corporate governance and drafting commercial contracts to raising over $1B in venture capital. We are a cross-functional team of engineers, designers, product managers, operations and legal experts building products and tools that are changing the future of the legal industry.\\', \\'As the Director of Business Operations, you will be helping Atrium scale 10x and drive operational excellence across the company. Your objective will be to steer the business into making analytically driven strategic decisions and lead critical projects and programs across the company. You will also partner closely with members of the executive team to analyze, propose, and go-to-market with new business opportunities.\\', \\'What will you be doing?\\', \\' Develop and implement go-to-market strategies for new business, products, and services\\', \\' \\', \\' Build frameworks to constantly evaluate the health of existing products and services\\', \\' \\', \\' Build and own standardized business metrics reporting\\', \\' \\', \\' Partner with business owners across functions on the most critical company initiatives, and drive projects from ideation through execution\\', \\' \\', \\' Oversee all operations teams including sales ops, business operations, legal operations, product operations and analytics\\', \\' \\', \\' Develop a deep understanding of the business and be the person that can connect the dots across Legal, Growth, Engineering/Product/Design, and various Operations teams to identify areas for improvement, efficiency, and collaboration\\', \\' \\', \\' Build processes and procedures that allow the company to scale 10x\\', \\' \\', \\' Project manage core cross functional initiatives from conception to completion\\', \\' \\', \\' Improve business systems to support strategy and increase data integrity\\', \\' \\', \\' Execute on business plans in the most efficient and effective manner\\', \\' \\', \\' Build and lead a team of high-performing, passionate, strategic business leaders\\', \\'What does success look like in this role?\\', \\' 10+ years of experience in management consulting or banking and business operations at high growth companies\\', \\' \\', \\' Success directly managing and scaling teams, including strong mentorship and career pathing of direct reports\\', \\' \\', \\' Strong business acumen with experience leading strategy, operations and process improvement projects\\', \\' \\', \\' Top notch problem solving and analysis skills, ability to solve complex business problems from strategy to execution\\', \\' \\', \\' Ability to develop or oversee advanced quantitative analysis to derive actionable insights and synthesized recommendations to senior executives and the Board\\', \\' \\', \\' Strong leadership and management skills with the ability to lead and influence stakeholders at all levels of an organization\\', \\' \\', \" Bachelor\\'s Degree or relevant experience\", \"What you\\'ll get from Atrium?\", \" The rare opportunity to be an early engineering leader at one of the hottest SF startups with $65M in new funding. We\\'re not just another legal tech company disrupting a traditional industry, we\\'re transforming how legal services are provided!\", \\' \\', \\' Top-tier mentorship from experienced founders, including Justin Kan (Twitch founder)\\', \\' \\', \\' A cross-functional, collaborative and growth-oriented environment where your input is highly valued\\', \\' \\', \\' Competitive compensation with equity, top-tier health and commuter benefits, 401k, pet insurance, and paid vacation and sick time-off; plus sweet perks like catered lunch daily, cell phone reimbursement, professional development stipend, etc.\\', \\' \\', \\' San Francisco office across from 4th & King CalTrain with large private patio and views of downtown.\\']'"
      ]
     },
     "execution_count": 43,
     "metadata": {},
     "output_type": "execute_result"
    }
   ],
   "source": [
    "df.sample()['description'].values[0]"
   ]
  },
  {
   "cell_type": "code",
   "execution_count": 44,
   "metadata": {},
   "outputs": [
    {
     "data": {
      "text/plain": [
       "'[1, 2, 3]'"
      ]
     },
     "execution_count": 44,
     "metadata": {},
     "output_type": "execute_result"
    }
   ],
   "source": [
    "str([1, 2, 3])"
   ]
  },
  {
   "cell_type": "code",
   "execution_count": 45,
   "metadata": {},
   "outputs": [
    {
     "data": {
      "text/plain": [
       "['[', '1', ',', ' ', '2', ',', ' ', '3', ']']"
      ]
     },
     "execution_count": 45,
     "metadata": {},
     "output_type": "execute_result"
    }
   ],
   "source": [
    "list( str([1, 2, 3]) )"
   ]
  },
  {
   "cell_type": "code",
   "execution_count": 46,
   "metadata": {},
   "outputs": [],
   "source": [
    "from ast import literal_eval"
   ]
  },
  {
   "cell_type": "code",
   "execution_count": 47,
   "metadata": {},
   "outputs": [
    {
     "data": {
      "text/plain": [
       "[1, 2, 3]"
      ]
     },
     "execution_count": 47,
     "metadata": {},
     "output_type": "execute_result"
    }
   ],
   "source": [
    "literal_eval( str([1, 2, 3]) )"
   ]
  },
  {
   "cell_type": "code",
   "execution_count": 49,
   "metadata": {
    "scrolled": true
   },
   "outputs": [
    {
     "data": {
      "text/plain": [
       "array([list(['Job Description', 'At ', 'Gallagher Bassett Services, Inc. (GB)', ' we are constantly seeking skilled professionals who are up for a challenge and take exceptional performance to heart. The professionals we hire help us maintain our reputation as one of the most progressive property/casualty third party claims service organizations in our industry and throughout the world. Gallagher Bassett provides services to Fortune 1000 companies throughout 100 offices worldwide. For the past several years GB has ranked among the largest TPA\\'s by Business Insurance Magazine and was also a recipient of the Business Insurance Readers\\' Choice award for \"Best Third Party Claims Administrator.\" If you\\'re looking for a professional career with an industry leader then you have come to the right place. Wherever your interests lie, we\\'re sure you will agree on one thing: our continued prosperity hinges on our greatest resource --- our people.', 'Position Summary', 'Responsible for the day-to-day account management for 25+ routine/moderately complex client accounts, typically $125K or less in annual revenue. Manages an assigned book of business, covering multiple industries and client locations, building, expanding, and solidifying relationships with existing clients. Primarily focused on delivering exceptional service to all clients within book. Solves common issues and identifies client concerns/opportunities and drives solutions with limited guidance.', 'Essential Duties & Responsibilities', ' Serves as single point of contact for clients; highly responsive to requests and has demonstrated ability to solve common AM challenges (e.g., banking, reports, etc.) providing leverage to his/her manager. ', ' Develops client trust and confidence. ', ' Renews own accounts of low to moderate complexity with limited assistance. ', ' Organizes and leads effective group meetings on behalf of client(claims reviews). ', ' Facilitates discussions effectively, selling value of GB services. ', ' Perceived as critical link between client, management and claims operations. ', ' Requires minimal levels of supervision in areas like responsiveness, renewal planning/delivery and analytics. ', ' Obtains data through internal tools and manipulates to identify trends and meaningful information for clients. ', ' Executes and presents analysis results proficiently. ', ' Demonstrates effective project management skills by conveying and managing what and when deliverables from others are needed. ', ' Stays current on company and industry developments. ', 'Required', 'Job Qualifications', ' ', \" Bachelor's Degree \", ' 3 or more years related experience ', ' Insurance license ', ' Solid understanding of risk, insurance, and claims ', 'Desired', ' Strong working knowledge of GB products and services. ', ' Has completed training and/or certification courses to demonstrate knowledge in these areas. ', ' Able to travel approximately 30% - 35%. ', ' Industry designations highly preferred. ', 'Work Traits', ' Proficient in Excel and PowerPoint. ', ' Delivers all messages (written or verbally) in a concise, logical manner with focus on insights and decisions/action. ', ' Navigates nearly all sensitive situations with poise and confidence. ', ' Confident when communicating, often gets point across. ', ' Prioritizes work effectively. ', ' Can assess information (data, trends) and quickly identify the salient points for further investigation or discussion with client. ', ' Understands drivers of risk, key individuals within the company and industry/competitor developments. ', ' Can discuss client’s business beyond claims. ', ' Robust understanding of risk, insurance and claim industry information and trends. ', ' Knows what to look for and why in given industry. ', ' Creates positive team environment for others, including adjuster team members. ', 'U.S. Eligibility Requirements', ' ', ' Interested candidates must submit an application and resume/CV online to be considered ', ' Must be 18 years of age or older ', ' Must be willing to submit to a background investigation; any offer of employment is conditioned upon the successful completion of a background investigation ', ' Must have unrestricted work authorization to work in the United States. For U.S. employment opportunities, Gallagher hires U.S. citizens, permanent residents, asylees, refugees, and temporary residents. Temporary residence does not include those with non-immigrant work authorization (F, J, H or L visas), such as students in practical training status. Exceptions to these requirements will be determined based on shortage of qualified candidates with a particular skill. Gallagher will require proof of work authorization ', \" Must be willing to execute Gallagher's Employee Agreement or Confidentiality/Non-Disclosure Agreement, which require, among other things, post-employment obligations relating to non-solicitation, confidentiality and non-disclosure \", 'Gallagher offers competitive salaries and benefits, including: medical/dental/vision plans, life and accident insurance, 401(K), employee stock purchase plan, educational expense reimbursement, employee assistance program, flexible work hours (availability varies by office and job function) training programs, matching gift program, and more.', 'Gallagher believes that all persons are entitled to equal employment opportunity and does not discriminate against nor favor any applicant because of race, color, religion, sex, age, veteran status, disability, national origin, or any other legally protected status. Equal employment opportunity will be extended in all aspects of the employer-employee relationship, including, but not limited to, recruitment, hiring, training, promotion, transfer, demotion, compensation, benefits, layoff, and termination. In addition, Gallagher will make reasonable accommodations to known physical or mental limitations of an otherwise qualified applicant with a disability, unless the accommodation would impose an undue hardship on the operation of our business.', 'Job', 'Sales/Production', 'Primary Location', 'United States-Illinois-Rolling Meadows', 'Organization', 'GB US Operations', 'Schedule', 'Full-time', 'Travel', 'Yes, 25 % of the Time'])],\n",
       "      dtype=object)"
      ]
     },
     "execution_count": 49,
     "metadata": {},
     "output_type": "execute_result"
    }
   ],
   "source": [
    "df.sample()['description'].map(literal_eval).values"
   ]
  },
  {
   "cell_type": "code",
   "execution_count": 51,
   "metadata": {
    "scrolled": true
   },
   "outputs": [
    {
     "name": "stdout",
     "output_type": "stream",
     "text": [
      "Apply\n",
      "\n",
      "If you speak Arabic or German and have experience working with kids please apply at: https://smartcoos.com/lg . We will contact you for an interview ASAP.\n",
      "\n",
      "Smart Coos works very hard to develop and deliver an inspiring curriculum for young children and need people who believe in making that happen. There is room to grow with our company if you have the right team-player attitude and are ready to create an unforgettable experience for kids each week. If this is you, we can’t wait to meet you! We have a paid training and classes begin on a rolling basis. \n",
      "\n",
      " Responsibilities of the Smart Coos language guide will include but are not limited to:\n",
      "\n",
      " \n",
      "\n",
      " Create a positive, achievement-oriented and structured learning environment that excites and invests students. \n",
      "\n",
      " Build class community by investing families in children’s language success \n",
      "\n",
      " Utilize data from Smart Coos interim assessments to drive instruction and intervention. \n",
      "\n",
      " Design and implement unit and lesson plans in collaboration with team. \n",
      "\n",
      " Collaborate with coach to improve instructional, culture-building and leadership skills. \n",
      "\n",
      " Attend all professional development, team planning and data analysis meetings. \n",
      "\n",
      " Participate enthusiastically in structured and informal learning and development opportunities. \n",
      "\n",
      " Fluent in German or Arabic; native speakers preferred \n",
      "\n",
      " Must have proven successful experience working with children under eight years old \n",
      "\n",
      " Very friendly, responsible, and ALWAYS ON TIME \n",
      "\n",
      " High level of personal organization and planning. \n",
      "\n",
      " Team player: maturity, humility, strong work ethic, follow-through, sense of humor, willingness to respond positively to feedback and a “roll-up-my-sleeves” attitude. \n",
      "\n",
      " Must possess basic computer skills \n",
      "\n",
      " Teaching experience preferred, focus on K-12 preferred \n",
      "\n",
      " Bachelor’s degree from a competitive college or university; \n",
      "\n",
      " Willingness to seek valid state certification if needed. \n",
      "\n",
      " Quiet space \n",
      "\n",
      " Neutral background \n",
      "\n",
      " Well-lit \n",
      "\n",
      " Internet Requirements\n",
      "\n",
      " Wired cable internet connection. Minimum Download Speed: 16 Mbps (or 8,000 Kbps) Minimum Upload Speed: 1 Mbps (or 1,000 Kbps) These speeds represent the typical standard high speed data service offered by cable providers. Smaller (slower) packages or speeds are not recommended, and you may be required to upgrade.\n",
      "\n",
      "TEST MY INTERNET SPEED (http://www.speedtest.net/)\n",
      "\n",
      "Wireless network connections are not acceptable. You should have a connection to your home office with a hard line running from the high speed data modem or router directly to your computer (with your wireless adapter turned off on your PC). \n",
      "\n",
      " Computer Hardware Requirements\n",
      "\n",
      " You must possess Administrative Rights to your Computer. Minimum memory: 6 GB of RAM (8 GB of RAM preferred) Minimum processor speed: 3.0 GHz for 2+ core processors Minimum display resolution: 1024 x 768 (a minimum 13.8″ monitor) Network card: integrated 10/100/1000 Ethernet Operating Systems: Windows or Macintosh Web Browser: Internet Explorer, Google Chrome, and Mozilla Firefox should be installed. Java: Java 7, Java 8 Sound Card installed: Standard sound card \n",
      "\n",
      " Firewall, Spyware and Malware Protection\n",
      "\n",
      " You are responsible for installing, configuring and updating security software to protect your computer. Follow the instructions for your security software to make sure that it does not block access or pop-ups for web sites used as part of your job.\n",
      "\n",
      "Compensation\n",
      "\n",
      "Salary for this position is very competitive and commensurate with experience.\n",
      "\n",
      "APPLY @ https://smartcoos.com/e/lg:\n",
      "\n",
      " APPLY @ https://smartcoos.com/e/lg\n",
      "\n",
      "If you speak German or Arabic and have experience working with kids PLEASE APPLY AT: https://smartcoos.com/lg/ . We will contact you for an interview ASAP.\n",
      "\n",
      "Qualified bilingual individuals from any state within the United States are encouraged to apply.\n",
      "\n",
      "MORE INFORMATION on position, check out https://smartcoos.com/lg\n",
      "\n"
     ]
    }
   ],
   "source": [
    "for line in df.sample()['description'].map(literal_eval).values[0]:\n",
    "    print(line)\n",
    "    print(\"\")\n",
    "    \n",
    "    "
   ]
  },
  {
   "cell_type": "code",
   "execution_count": null,
   "metadata": {},
   "outputs": [],
   "source": []
  }
 ],
 "metadata": {
  "kernelspec": {
   "display_name": "Python 3",
   "language": "python",
   "name": "python3"
  },
  "language_info": {
   "codemirror_mode": {
    "name": "ipython",
    "version": 3
   },
   "file_extension": ".py",
   "mimetype": "text/x-python",
   "name": "python",
   "nbconvert_exporter": "python",
   "pygments_lexer": "ipython3",
   "version": "3.7.1"
  }
 },
 "nbformat": 4,
 "nbformat_minor": 2
}
